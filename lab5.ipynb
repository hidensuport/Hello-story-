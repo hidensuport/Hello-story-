{
  "nbformat": 4,
  "nbformat_minor": 0,
  "metadata": {
    "colab": {
      "provenance": [],
      "authorship_tag": "ABX9TyNYB4XhnpOPf7xn4I3JbG01",
      "include_colab_link": true
    },
    "kernelspec": {
      "name": "python3",
      "display_name": "Python 3"
    },
    "language_info": {
      "name": "python"
    }
  },
  "cells": [
    {
      "cell_type": "markdown",
      "metadata": {
        "id": "view-in-github",
        "colab_type": "text"
      },
      "source": [
        "<a href=\"https://colab.research.google.com/github/hidensuport/Hello-story-/blob/master/lab5.ipynb\" target=\"_parent\"><img src=\"https://colab.research.google.com/assets/colab-badge.svg\" alt=\"Open In Colab\"/></a>"
      ]
    },
    {
      "cell_type": "code",
      "execution_count": 1,
      "metadata": {
        "id": "zbtPw54iv-AR"
      },
      "outputs": [],
      "source": [
        "import pandas as pd\n",
        "from google.colab import drive\n",
        "import matplotlib.pyplot as plt\n",
        "import numpy as np"
      ]
    },
    {
      "cell_type": "code",
      "source": [
        "drive.mount('/content/gdrive/', force_remount = True)"
      ],
      "metadata": {
        "colab": {
          "base_uri": "https://localhost:8080/",
          "height": 0
        },
        "id": "PlGKzlrwwA6m",
        "outputId": "e923d37f-23fe-4439-b8cd-595ba5c0c7bc"
      },
      "execution_count": 2,
      "outputs": [
        {
          "output_type": "stream",
          "name": "stdout",
          "text": [
            "Mounted at /content/gdrive/\n"
          ]
        }
      ]
    },
    {
      "cell_type": "code",
      "source": [
        "import zipfile\n",
        "\n",
        "df = pd.read_csv(\"/content/gdrive/MyDrive/Colab Notebooks/us_perm_visas.csv\")"
      ],
      "metadata": {
        "colab": {
          "base_uri": "https://localhost:8080/",
          "height": 0
        },
        "id": "cx1Soo8uwDKH",
        "outputId": "7486f58b-2062-4530-b446-d60efe9b09b6"
      },
      "execution_count": 6,
      "outputs": [
        {
          "output_type": "stream",
          "name": "stderr",
          "text": [
            "/usr/local/lib/python3.8/dist-packages/IPython/core/interactiveshell.py:3326: DtypeWarning: Columns (0,1,2,3,4,5,6,7,10,11,16,17,20,21,22,25,26,27,28,29,30,31,32,33,34,35,36,37,39,40,41,42,43,44,45,47,48,49,50,51,52,53,55,56,57,58,59,60,61,63,64,65,66,68,69,70,71,72,73,74,77,79,80,81,82,83,84,85,86,87,88,89,90,91,92,93,94,95,100,101,103,104,105,106,107,108,109,110,111,112,113,114,115,116,117,118,119,120,121,122,123,124,125,126,127,128,129,130,131,132,133,134,135,136,137,138,139,140,141,142,143,144,145,146,147,148,149,150,153) have mixed types.Specify dtype option on import or set low_memory=False.\n",
            "  exec(code_obj, self.user_global_ns, self.user_ns)\n"
          ]
        }
      ]
    },
    {
      "cell_type": "code",
      "source": [
        "df"
      ],
      "metadata": {
        "colab": {
          "base_uri": "https://localhost:8080/",
          "height": 800
        },
        "id": "Aq7l5HcgwWw0",
        "outputId": "e1475c70-7f13-4d15-810f-06f82b2f1b2a"
      },
      "execution_count": 7,
      "outputs": [
        {
          "output_type": "execute_result",
          "data": {
            "text/plain": [
              "       add_these_pw_job_title_9089   agent_city  \\\n",
              "0                              NaN          NaN   \n",
              "1                              NaN          NaN   \n",
              "2                              NaN          NaN   \n",
              "3                              NaN          NaN   \n",
              "4                              NaN          NaN   \n",
              "...                            ...          ...   \n",
              "374357                         NaN   Buena Park   \n",
              "374358                         NaN      Seattle   \n",
              "374359                         NaN   Schaumburg   \n",
              "374360                         NaN  LOS ANGELES   \n",
              "374361                         NaN      Phoenix   \n",
              "\n",
              "                                          agent_firm_name agent_state  \\\n",
              "0                                                     NaN         NaN   \n",
              "1                                                     NaN         NaN   \n",
              "2                                                     NaN         NaN   \n",
              "3                                                     NaN         NaN   \n",
              "4                                                     NaN         NaN   \n",
              "...                                                   ...         ...   \n",
              "374357                           Law Offices of Yohan Lee          CA   \n",
              "374358                         MacDonald Hoague & Bayless          WA   \n",
              "374359  International Legal and Business Services Grou...          IL   \n",
              "374360                        LAW OFFICES OF JAMES S HONG          CA   \n",
              "374361            Fragomen, Del Rey, Bernsen & Loewy, LLP          AZ   \n",
              "\n",
              "       application_type        case_no    case_number case_received_date  \\\n",
              "0                  PERM  A-07323-97014            NaN                NaN   \n",
              "1                  PERM  A-07332-99439            NaN                NaN   \n",
              "2                  PERM  A-07333-99643            NaN                NaN   \n",
              "3                  PERM  A-07339-01930            NaN                NaN   \n",
              "4                  PERM  A-07345-03565            NaN                NaN   \n",
              "...                 ...            ...            ...                ...   \n",
              "374357              NaN            NaN  A-16363-85407         2016-12-29   \n",
              "374358              NaN            NaN  A-16271-56745         2016-12-30   \n",
              "374359              NaN            NaN  A-16354-82345         2016-12-30   \n",
              "374360              NaN            NaN  A-16357-84250         2016-12-30   \n",
              "374361              NaN            NaN  A-16279-59292         2016-12-30   \n",
              "\n",
              "       case_status class_of_admission  ... ri_pvt_employment_firm_to  \\\n",
              "0        Certified                J-1  ...                       NaN   \n",
              "1           Denied                B-2  ...                       NaN   \n",
              "2        Certified               H-1B  ...                       NaN   \n",
              "3        Certified                B-2  ...                       NaN   \n",
              "4        Certified                L-1  ...                       NaN   \n",
              "...            ...                ...  ...                       ...   \n",
              "374357   Withdrawn                NaN  ...                       NaN   \n",
              "374358   Withdrawn                L-1  ...                       NaN   \n",
              "374359   Withdrawn               H-1B  ...                       NaN   \n",
              "374360   Withdrawn                B-2  ...                       NaN   \n",
              "374361   Withdrawn               H-1B  ...                       NaN   \n",
              "\n",
              "       ri_us_workers_considered schd_a_sheepherder     us_economic_sector  \\\n",
              "0                           NaN                NaN                     IT   \n",
              "1                           NaN                NaN  Other Economic Sector   \n",
              "2                           NaN                NaN              Aerospace   \n",
              "3                           NaN                NaN  Other Economic Sector   \n",
              "4                           NaN                NaN           Advanced Mfg   \n",
              "...                         ...                ...                    ...   \n",
              "374357                      NaN                  N                    NaN   \n",
              "374358                        Y                  N                    NaN   \n",
              "374359                      NaN                  N                    NaN   \n",
              "374360                      NaN                  N                    NaN   \n",
              "374361                      NaN                  N                    NaN   \n",
              "\n",
              "       wage_offer_from_9089 wage_offer_to_9089 wage_offer_unit_of_pay_9089  \\\n",
              "0                   75629.0                NaN                          yr   \n",
              "1                   37024.0                NaN                          yr   \n",
              "2                   47923.0                NaN                          yr   \n",
              "3                     10.97                NaN                          hr   \n",
              "4                  100000.0                NaN                          yr   \n",
              "...                     ...                ...                         ...   \n",
              "374357            28,330.00                NaN                        Year   \n",
              "374358           122,000.00         142,000.00                        Year   \n",
              "374359            79,082.00          79,082.00                        Year   \n",
              "374360            37,981.00                NaN                        Year   \n",
              "374361            84,926.00         121,500.00                        Year   \n",
              "\n",
              "       wage_offered_from_9089 wage_offered_to_9089  \\\n",
              "0                         NaN                  NaN   \n",
              "1                         NaN                  NaN   \n",
              "2                         NaN                  NaN   \n",
              "3                         NaN                  NaN   \n",
              "4                         NaN                  NaN   \n",
              "...                       ...                  ...   \n",
              "374357                    NaN                  NaN   \n",
              "374358                    NaN                  NaN   \n",
              "374359                    NaN                  NaN   \n",
              "374360                    NaN                  NaN   \n",
              "374361                    NaN                  NaN   \n",
              "\n",
              "        wage_offered_unit_of_pay_9089  \n",
              "0                                 NaN  \n",
              "1                                 NaN  \n",
              "2                                 NaN  \n",
              "3                                 NaN  \n",
              "4                                 NaN  \n",
              "...                               ...  \n",
              "374357                            NaN  \n",
              "374358                            NaN  \n",
              "374359                            NaN  \n",
              "374360                            NaN  \n",
              "374361                            NaN  \n",
              "\n",
              "[374362 rows x 154 columns]"
            ],
            "text/html": [
              "\n",
              "  <div id=\"df-b1d7c042-d455-41e1-9905-1213c3c28e71\">\n",
              "    <div class=\"colab-df-container\">\n",
              "      <div>\n",
              "<style scoped>\n",
              "    .dataframe tbody tr th:only-of-type {\n",
              "        vertical-align: middle;\n",
              "    }\n",
              "\n",
              "    .dataframe tbody tr th {\n",
              "        vertical-align: top;\n",
              "    }\n",
              "\n",
              "    .dataframe thead th {\n",
              "        text-align: right;\n",
              "    }\n",
              "</style>\n",
              "<table border=\"1\" class=\"dataframe\">\n",
              "  <thead>\n",
              "    <tr style=\"text-align: right;\">\n",
              "      <th></th>\n",
              "      <th>add_these_pw_job_title_9089</th>\n",
              "      <th>agent_city</th>\n",
              "      <th>agent_firm_name</th>\n",
              "      <th>agent_state</th>\n",
              "      <th>application_type</th>\n",
              "      <th>case_no</th>\n",
              "      <th>case_number</th>\n",
              "      <th>case_received_date</th>\n",
              "      <th>case_status</th>\n",
              "      <th>class_of_admission</th>\n",
              "      <th>...</th>\n",
              "      <th>ri_pvt_employment_firm_to</th>\n",
              "      <th>ri_us_workers_considered</th>\n",
              "      <th>schd_a_sheepherder</th>\n",
              "      <th>us_economic_sector</th>\n",
              "      <th>wage_offer_from_9089</th>\n",
              "      <th>wage_offer_to_9089</th>\n",
              "      <th>wage_offer_unit_of_pay_9089</th>\n",
              "      <th>wage_offered_from_9089</th>\n",
              "      <th>wage_offered_to_9089</th>\n",
              "      <th>wage_offered_unit_of_pay_9089</th>\n",
              "    </tr>\n",
              "  </thead>\n",
              "  <tbody>\n",
              "    <tr>\n",
              "      <th>0</th>\n",
              "      <td>NaN</td>\n",
              "      <td>NaN</td>\n",
              "      <td>NaN</td>\n",
              "      <td>NaN</td>\n",
              "      <td>PERM</td>\n",
              "      <td>A-07323-97014</td>\n",
              "      <td>NaN</td>\n",
              "      <td>NaN</td>\n",
              "      <td>Certified</td>\n",
              "      <td>J-1</td>\n",
              "      <td>...</td>\n",
              "      <td>NaN</td>\n",
              "      <td>NaN</td>\n",
              "      <td>NaN</td>\n",
              "      <td>IT</td>\n",
              "      <td>75629.0</td>\n",
              "      <td>NaN</td>\n",
              "      <td>yr</td>\n",
              "      <td>NaN</td>\n",
              "      <td>NaN</td>\n",
              "      <td>NaN</td>\n",
              "    </tr>\n",
              "    <tr>\n",
              "      <th>1</th>\n",
              "      <td>NaN</td>\n",
              "      <td>NaN</td>\n",
              "      <td>NaN</td>\n",
              "      <td>NaN</td>\n",
              "      <td>PERM</td>\n",
              "      <td>A-07332-99439</td>\n",
              "      <td>NaN</td>\n",
              "      <td>NaN</td>\n",
              "      <td>Denied</td>\n",
              "      <td>B-2</td>\n",
              "      <td>...</td>\n",
              "      <td>NaN</td>\n",
              "      <td>NaN</td>\n",
              "      <td>NaN</td>\n",
              "      <td>Other Economic Sector</td>\n",
              "      <td>37024.0</td>\n",
              "      <td>NaN</td>\n",
              "      <td>yr</td>\n",
              "      <td>NaN</td>\n",
              "      <td>NaN</td>\n",
              "      <td>NaN</td>\n",
              "    </tr>\n",
              "    <tr>\n",
              "      <th>2</th>\n",
              "      <td>NaN</td>\n",
              "      <td>NaN</td>\n",
              "      <td>NaN</td>\n",
              "      <td>NaN</td>\n",
              "      <td>PERM</td>\n",
              "      <td>A-07333-99643</td>\n",
              "      <td>NaN</td>\n",
              "      <td>NaN</td>\n",
              "      <td>Certified</td>\n",
              "      <td>H-1B</td>\n",
              "      <td>...</td>\n",
              "      <td>NaN</td>\n",
              "      <td>NaN</td>\n",
              "      <td>NaN</td>\n",
              "      <td>Aerospace</td>\n",
              "      <td>47923.0</td>\n",
              "      <td>NaN</td>\n",
              "      <td>yr</td>\n",
              "      <td>NaN</td>\n",
              "      <td>NaN</td>\n",
              "      <td>NaN</td>\n",
              "    </tr>\n",
              "    <tr>\n",
              "      <th>3</th>\n",
              "      <td>NaN</td>\n",
              "      <td>NaN</td>\n",
              "      <td>NaN</td>\n",
              "      <td>NaN</td>\n",
              "      <td>PERM</td>\n",
              "      <td>A-07339-01930</td>\n",
              "      <td>NaN</td>\n",
              "      <td>NaN</td>\n",
              "      <td>Certified</td>\n",
              "      <td>B-2</td>\n",
              "      <td>...</td>\n",
              "      <td>NaN</td>\n",
              "      <td>NaN</td>\n",
              "      <td>NaN</td>\n",
              "      <td>Other Economic Sector</td>\n",
              "      <td>10.97</td>\n",
              "      <td>NaN</td>\n",
              "      <td>hr</td>\n",
              "      <td>NaN</td>\n",
              "      <td>NaN</td>\n",
              "      <td>NaN</td>\n",
              "    </tr>\n",
              "    <tr>\n",
              "      <th>4</th>\n",
              "      <td>NaN</td>\n",
              "      <td>NaN</td>\n",
              "      <td>NaN</td>\n",
              "      <td>NaN</td>\n",
              "      <td>PERM</td>\n",
              "      <td>A-07345-03565</td>\n",
              "      <td>NaN</td>\n",
              "      <td>NaN</td>\n",
              "      <td>Certified</td>\n",
              "      <td>L-1</td>\n",
              "      <td>...</td>\n",
              "      <td>NaN</td>\n",
              "      <td>NaN</td>\n",
              "      <td>NaN</td>\n",
              "      <td>Advanced Mfg</td>\n",
              "      <td>100000.0</td>\n",
              "      <td>NaN</td>\n",
              "      <td>yr</td>\n",
              "      <td>NaN</td>\n",
              "      <td>NaN</td>\n",
              "      <td>NaN</td>\n",
              "    </tr>\n",
              "    <tr>\n",
              "      <th>...</th>\n",
              "      <td>...</td>\n",
              "      <td>...</td>\n",
              "      <td>...</td>\n",
              "      <td>...</td>\n",
              "      <td>...</td>\n",
              "      <td>...</td>\n",
              "      <td>...</td>\n",
              "      <td>...</td>\n",
              "      <td>...</td>\n",
              "      <td>...</td>\n",
              "      <td>...</td>\n",
              "      <td>...</td>\n",
              "      <td>...</td>\n",
              "      <td>...</td>\n",
              "      <td>...</td>\n",
              "      <td>...</td>\n",
              "      <td>...</td>\n",
              "      <td>...</td>\n",
              "      <td>...</td>\n",
              "      <td>...</td>\n",
              "      <td>...</td>\n",
              "    </tr>\n",
              "    <tr>\n",
              "      <th>374357</th>\n",
              "      <td>NaN</td>\n",
              "      <td>Buena Park</td>\n",
              "      <td>Law Offices of Yohan Lee</td>\n",
              "      <td>CA</td>\n",
              "      <td>NaN</td>\n",
              "      <td>NaN</td>\n",
              "      <td>A-16363-85407</td>\n",
              "      <td>2016-12-29</td>\n",
              "      <td>Withdrawn</td>\n",
              "      <td>NaN</td>\n",
              "      <td>...</td>\n",
              "      <td>NaN</td>\n",
              "      <td>NaN</td>\n",
              "      <td>N</td>\n",
              "      <td>NaN</td>\n",
              "      <td>28,330.00</td>\n",
              "      <td>NaN</td>\n",
              "      <td>Year</td>\n",
              "      <td>NaN</td>\n",
              "      <td>NaN</td>\n",
              "      <td>NaN</td>\n",
              "    </tr>\n",
              "    <tr>\n",
              "      <th>374358</th>\n",
              "      <td>NaN</td>\n",
              "      <td>Seattle</td>\n",
              "      <td>MacDonald Hoague &amp; Bayless</td>\n",
              "      <td>WA</td>\n",
              "      <td>NaN</td>\n",
              "      <td>NaN</td>\n",
              "      <td>A-16271-56745</td>\n",
              "      <td>2016-12-30</td>\n",
              "      <td>Withdrawn</td>\n",
              "      <td>L-1</td>\n",
              "      <td>...</td>\n",
              "      <td>NaN</td>\n",
              "      <td>Y</td>\n",
              "      <td>N</td>\n",
              "      <td>NaN</td>\n",
              "      <td>122,000.00</td>\n",
              "      <td>142,000.00</td>\n",
              "      <td>Year</td>\n",
              "      <td>NaN</td>\n",
              "      <td>NaN</td>\n",
              "      <td>NaN</td>\n",
              "    </tr>\n",
              "    <tr>\n",
              "      <th>374359</th>\n",
              "      <td>NaN</td>\n",
              "      <td>Schaumburg</td>\n",
              "      <td>International Legal and Business Services Grou...</td>\n",
              "      <td>IL</td>\n",
              "      <td>NaN</td>\n",
              "      <td>NaN</td>\n",
              "      <td>A-16354-82345</td>\n",
              "      <td>2016-12-30</td>\n",
              "      <td>Withdrawn</td>\n",
              "      <td>H-1B</td>\n",
              "      <td>...</td>\n",
              "      <td>NaN</td>\n",
              "      <td>NaN</td>\n",
              "      <td>N</td>\n",
              "      <td>NaN</td>\n",
              "      <td>79,082.00</td>\n",
              "      <td>79,082.00</td>\n",
              "      <td>Year</td>\n",
              "      <td>NaN</td>\n",
              "      <td>NaN</td>\n",
              "      <td>NaN</td>\n",
              "    </tr>\n",
              "    <tr>\n",
              "      <th>374360</th>\n",
              "      <td>NaN</td>\n",
              "      <td>LOS ANGELES</td>\n",
              "      <td>LAW OFFICES OF JAMES S HONG</td>\n",
              "      <td>CA</td>\n",
              "      <td>NaN</td>\n",
              "      <td>NaN</td>\n",
              "      <td>A-16357-84250</td>\n",
              "      <td>2016-12-30</td>\n",
              "      <td>Withdrawn</td>\n",
              "      <td>B-2</td>\n",
              "      <td>...</td>\n",
              "      <td>NaN</td>\n",
              "      <td>NaN</td>\n",
              "      <td>N</td>\n",
              "      <td>NaN</td>\n",
              "      <td>37,981.00</td>\n",
              "      <td>NaN</td>\n",
              "      <td>Year</td>\n",
              "      <td>NaN</td>\n",
              "      <td>NaN</td>\n",
              "      <td>NaN</td>\n",
              "    </tr>\n",
              "    <tr>\n",
              "      <th>374361</th>\n",
              "      <td>NaN</td>\n",
              "      <td>Phoenix</td>\n",
              "      <td>Fragomen, Del Rey, Bernsen &amp; Loewy, LLP</td>\n",
              "      <td>AZ</td>\n",
              "      <td>NaN</td>\n",
              "      <td>NaN</td>\n",
              "      <td>A-16279-59292</td>\n",
              "      <td>2016-12-30</td>\n",
              "      <td>Withdrawn</td>\n",
              "      <td>H-1B</td>\n",
              "      <td>...</td>\n",
              "      <td>NaN</td>\n",
              "      <td>NaN</td>\n",
              "      <td>N</td>\n",
              "      <td>NaN</td>\n",
              "      <td>84,926.00</td>\n",
              "      <td>121,500.00</td>\n",
              "      <td>Year</td>\n",
              "      <td>NaN</td>\n",
              "      <td>NaN</td>\n",
              "      <td>NaN</td>\n",
              "    </tr>\n",
              "  </tbody>\n",
              "</table>\n",
              "<p>374362 rows × 154 columns</p>\n",
              "</div>\n",
              "      <button class=\"colab-df-convert\" onclick=\"convertToInteractive('df-b1d7c042-d455-41e1-9905-1213c3c28e71')\"\n",
              "              title=\"Convert this dataframe to an interactive table.\"\n",
              "              style=\"display:none;\">\n",
              "        \n",
              "  <svg xmlns=\"http://www.w3.org/2000/svg\" height=\"24px\"viewBox=\"0 0 24 24\"\n",
              "       width=\"24px\">\n",
              "    <path d=\"M0 0h24v24H0V0z\" fill=\"none\"/>\n",
              "    <path d=\"M18.56 5.44l.94 2.06.94-2.06 2.06-.94-2.06-.94-.94-2.06-.94 2.06-2.06.94zm-11 1L8.5 8.5l.94-2.06 2.06-.94-2.06-.94L8.5 2.5l-.94 2.06-2.06.94zm10 10l.94 2.06.94-2.06 2.06-.94-2.06-.94-.94-2.06-.94 2.06-2.06.94z\"/><path d=\"M17.41 7.96l-1.37-1.37c-.4-.4-.92-.59-1.43-.59-.52 0-1.04.2-1.43.59L10.3 9.45l-7.72 7.72c-.78.78-.78 2.05 0 2.83L4 21.41c.39.39.9.59 1.41.59.51 0 1.02-.2 1.41-.59l7.78-7.78 2.81-2.81c.8-.78.8-2.07 0-2.86zM5.41 20L4 18.59l7.72-7.72 1.47 1.35L5.41 20z\"/>\n",
              "  </svg>\n",
              "      </button>\n",
              "      \n",
              "  <style>\n",
              "    .colab-df-container {\n",
              "      display:flex;\n",
              "      flex-wrap:wrap;\n",
              "      gap: 12px;\n",
              "    }\n",
              "\n",
              "    .colab-df-convert {\n",
              "      background-color: #E8F0FE;\n",
              "      border: none;\n",
              "      border-radius: 50%;\n",
              "      cursor: pointer;\n",
              "      display: none;\n",
              "      fill: #1967D2;\n",
              "      height: 32px;\n",
              "      padding: 0 0 0 0;\n",
              "      width: 32px;\n",
              "    }\n",
              "\n",
              "    .colab-df-convert:hover {\n",
              "      background-color: #E2EBFA;\n",
              "      box-shadow: 0px 1px 2px rgba(60, 64, 67, 0.3), 0px 1px 3px 1px rgba(60, 64, 67, 0.15);\n",
              "      fill: #174EA6;\n",
              "    }\n",
              "\n",
              "    [theme=dark] .colab-df-convert {\n",
              "      background-color: #3B4455;\n",
              "      fill: #D2E3FC;\n",
              "    }\n",
              "\n",
              "    [theme=dark] .colab-df-convert:hover {\n",
              "      background-color: #434B5C;\n",
              "      box-shadow: 0px 1px 3px 1px rgba(0, 0, 0, 0.15);\n",
              "      filter: drop-shadow(0px 1px 2px rgba(0, 0, 0, 0.3));\n",
              "      fill: #FFFFFF;\n",
              "    }\n",
              "  </style>\n",
              "\n",
              "      <script>\n",
              "        const buttonEl =\n",
              "          document.querySelector('#df-b1d7c042-d455-41e1-9905-1213c3c28e71 button.colab-df-convert');\n",
              "        buttonEl.style.display =\n",
              "          google.colab.kernel.accessAllowed ? 'block' : 'none';\n",
              "\n",
              "        async function convertToInteractive(key) {\n",
              "          const element = document.querySelector('#df-b1d7c042-d455-41e1-9905-1213c3c28e71');\n",
              "          const dataTable =\n",
              "            await google.colab.kernel.invokeFunction('convertToInteractive',\n",
              "                                                     [key], {});\n",
              "          if (!dataTable) return;\n",
              "\n",
              "          const docLinkHtml = 'Like what you see? Visit the ' +\n",
              "            '<a target=\"_blank\" href=https://colab.research.google.com/notebooks/data_table.ipynb>data table notebook</a>'\n",
              "            + ' to learn more about interactive tables.';\n",
              "          element.innerHTML = '';\n",
              "          dataTable['output_type'] = 'display_data';\n",
              "          await google.colab.output.renderOutput(dataTable, element);\n",
              "          const docLink = document.createElement('div');\n",
              "          docLink.innerHTML = docLinkHtml;\n",
              "          element.appendChild(docLink);\n",
              "        }\n",
              "      </script>\n",
              "    </div>\n",
              "  </div>\n",
              "  "
            ]
          },
          "metadata": {},
          "execution_count": 7
        }
      ]
    },
    {
      "cell_type": "markdown",
      "source": [
        "# 2.) Choose 4 features you think are important. Case_status is your target variable\n"
      ],
      "metadata": {
        "id": "h0mj6fYSxG0e"
      }
    },
    {
      "cell_type": "code",
      "source": [
        "df_select = df[[\"case_status\", \"class_of_admission\",\"application_type\"]]"
      ],
      "metadata": {
        "id": "oeKUhrfbxHU5"
      },
      "execution_count": 10,
      "outputs": []
    },
    {
      "cell_type": "code",
      "source": [],
      "metadata": {
        "colab": {
          "base_uri": "https://localhost:8080/",
          "height": 423
        },
        "id": "h-eNC6WLxPvR",
        "outputId": "9a446d42-34b1-4165-e3ac-ad2fe01377f7"
      },
      "execution_count": 16,
      "outputs": [
        {
          "output_type": "execute_result",
          "data": {
            "text/plain": [
              "       case_status class_of_admission application_type\n",
              "0        Certified                J-1             PERM\n",
              "1           Denied                B-2             PERM\n",
              "2        Certified               H-1B             PERM\n",
              "3        Certified                B-2             PERM\n",
              "4        Certified                L-1             PERM\n",
              "...            ...                ...              ...\n",
              "374357   Withdrawn                NaN              NaN\n",
              "374358   Withdrawn                L-1              NaN\n",
              "374359   Withdrawn               H-1B              NaN\n",
              "374360   Withdrawn                B-2              NaN\n",
              "374361   Withdrawn               H-1B              NaN\n",
              "\n",
              "[374362 rows x 3 columns]"
            ],
            "text/html": [
              "\n",
              "  <div id=\"df-b1e44919-c5b0-4a0e-a269-fdd38c44be38\">\n",
              "    <div class=\"colab-df-container\">\n",
              "      <div>\n",
              "<style scoped>\n",
              "    .dataframe tbody tr th:only-of-type {\n",
              "        vertical-align: middle;\n",
              "    }\n",
              "\n",
              "    .dataframe tbody tr th {\n",
              "        vertical-align: top;\n",
              "    }\n",
              "\n",
              "    .dataframe thead th {\n",
              "        text-align: right;\n",
              "    }\n",
              "</style>\n",
              "<table border=\"1\" class=\"dataframe\">\n",
              "  <thead>\n",
              "    <tr style=\"text-align: right;\">\n",
              "      <th></th>\n",
              "      <th>case_status</th>\n",
              "      <th>class_of_admission</th>\n",
              "      <th>application_type</th>\n",
              "    </tr>\n",
              "  </thead>\n",
              "  <tbody>\n",
              "    <tr>\n",
              "      <th>0</th>\n",
              "      <td>Certified</td>\n",
              "      <td>J-1</td>\n",
              "      <td>PERM</td>\n",
              "    </tr>\n",
              "    <tr>\n",
              "      <th>1</th>\n",
              "      <td>Denied</td>\n",
              "      <td>B-2</td>\n",
              "      <td>PERM</td>\n",
              "    </tr>\n",
              "    <tr>\n",
              "      <th>2</th>\n",
              "      <td>Certified</td>\n",
              "      <td>H-1B</td>\n",
              "      <td>PERM</td>\n",
              "    </tr>\n",
              "    <tr>\n",
              "      <th>3</th>\n",
              "      <td>Certified</td>\n",
              "      <td>B-2</td>\n",
              "      <td>PERM</td>\n",
              "    </tr>\n",
              "    <tr>\n",
              "      <th>4</th>\n",
              "      <td>Certified</td>\n",
              "      <td>L-1</td>\n",
              "      <td>PERM</td>\n",
              "    </tr>\n",
              "    <tr>\n",
              "      <th>...</th>\n",
              "      <td>...</td>\n",
              "      <td>...</td>\n",
              "      <td>...</td>\n",
              "    </tr>\n",
              "    <tr>\n",
              "      <th>374357</th>\n",
              "      <td>Withdrawn</td>\n",
              "      <td>NaN</td>\n",
              "      <td>NaN</td>\n",
              "    </tr>\n",
              "    <tr>\n",
              "      <th>374358</th>\n",
              "      <td>Withdrawn</td>\n",
              "      <td>L-1</td>\n",
              "      <td>NaN</td>\n",
              "    </tr>\n",
              "    <tr>\n",
              "      <th>374359</th>\n",
              "      <td>Withdrawn</td>\n",
              "      <td>H-1B</td>\n",
              "      <td>NaN</td>\n",
              "    </tr>\n",
              "    <tr>\n",
              "      <th>374360</th>\n",
              "      <td>Withdrawn</td>\n",
              "      <td>B-2</td>\n",
              "      <td>NaN</td>\n",
              "    </tr>\n",
              "    <tr>\n",
              "      <th>374361</th>\n",
              "      <td>Withdrawn</td>\n",
              "      <td>H-1B</td>\n",
              "      <td>NaN</td>\n",
              "    </tr>\n",
              "  </tbody>\n",
              "</table>\n",
              "<p>374362 rows × 3 columns</p>\n",
              "</div>\n",
              "      <button class=\"colab-df-convert\" onclick=\"convertToInteractive('df-b1e44919-c5b0-4a0e-a269-fdd38c44be38')\"\n",
              "              title=\"Convert this dataframe to an interactive table.\"\n",
              "              style=\"display:none;\">\n",
              "        \n",
              "  <svg xmlns=\"http://www.w3.org/2000/svg\" height=\"24px\"viewBox=\"0 0 24 24\"\n",
              "       width=\"24px\">\n",
              "    <path d=\"M0 0h24v24H0V0z\" fill=\"none\"/>\n",
              "    <path d=\"M18.56 5.44l.94 2.06.94-2.06 2.06-.94-2.06-.94-.94-2.06-.94 2.06-2.06.94zm-11 1L8.5 8.5l.94-2.06 2.06-.94-2.06-.94L8.5 2.5l-.94 2.06-2.06.94zm10 10l.94 2.06.94-2.06 2.06-.94-2.06-.94-.94-2.06-.94 2.06-2.06.94z\"/><path d=\"M17.41 7.96l-1.37-1.37c-.4-.4-.92-.59-1.43-.59-.52 0-1.04.2-1.43.59L10.3 9.45l-7.72 7.72c-.78.78-.78 2.05 0 2.83L4 21.41c.39.39.9.59 1.41.59.51 0 1.02-.2 1.41-.59l7.78-7.78 2.81-2.81c.8-.78.8-2.07 0-2.86zM5.41 20L4 18.59l7.72-7.72 1.47 1.35L5.41 20z\"/>\n",
              "  </svg>\n",
              "      </button>\n",
              "      \n",
              "  <style>\n",
              "    .colab-df-container {\n",
              "      display:flex;\n",
              "      flex-wrap:wrap;\n",
              "      gap: 12px;\n",
              "    }\n",
              "\n",
              "    .colab-df-convert {\n",
              "      background-color: #E8F0FE;\n",
              "      border: none;\n",
              "      border-radius: 50%;\n",
              "      cursor: pointer;\n",
              "      display: none;\n",
              "      fill: #1967D2;\n",
              "      height: 32px;\n",
              "      padding: 0 0 0 0;\n",
              "      width: 32px;\n",
              "    }\n",
              "\n",
              "    .colab-df-convert:hover {\n",
              "      background-color: #E2EBFA;\n",
              "      box-shadow: 0px 1px 2px rgba(60, 64, 67, 0.3), 0px 1px 3px 1px rgba(60, 64, 67, 0.15);\n",
              "      fill: #174EA6;\n",
              "    }\n",
              "\n",
              "    [theme=dark] .colab-df-convert {\n",
              "      background-color: #3B4455;\n",
              "      fill: #D2E3FC;\n",
              "    }\n",
              "\n",
              "    [theme=dark] .colab-df-convert:hover {\n",
              "      background-color: #434B5C;\n",
              "      box-shadow: 0px 1px 3px 1px rgba(0, 0, 0, 0.15);\n",
              "      filter: drop-shadow(0px 1px 2px rgba(0, 0, 0, 0.3));\n",
              "      fill: #FFFFFF;\n",
              "    }\n",
              "  </style>\n",
              "\n",
              "      <script>\n",
              "        const buttonEl =\n",
              "          document.querySelector('#df-b1e44919-c5b0-4a0e-a269-fdd38c44be38 button.colab-df-convert');\n",
              "        buttonEl.style.display =\n",
              "          google.colab.kernel.accessAllowed ? 'block' : 'none';\n",
              "\n",
              "        async function convertToInteractive(key) {\n",
              "          const element = document.querySelector('#df-b1e44919-c5b0-4a0e-a269-fdd38c44be38');\n",
              "          const dataTable =\n",
              "            await google.colab.kernel.invokeFunction('convertToInteractive',\n",
              "                                                     [key], {});\n",
              "          if (!dataTable) return;\n",
              "\n",
              "          const docLinkHtml = 'Like what you see? Visit the ' +\n",
              "            '<a target=\"_blank\" href=https://colab.research.google.com/notebooks/data_table.ipynb>data table notebook</a>'\n",
              "            + ' to learn more about interactive tables.';\n",
              "          element.innerHTML = '';\n",
              "          dataTable['output_type'] = 'display_data';\n",
              "          await google.colab.output.renderOutput(dataTable, element);\n",
              "          const docLink = document.createElement('div');\n",
              "          docLink.innerHTML = docLinkHtml;\n",
              "          element.appendChild(docLink);\n",
              "        }\n",
              "      </script>\n",
              "    </div>\n",
              "  </div>\n",
              "  "
            ]
          },
          "metadata": {},
          "execution_count": 16
        }
      ]
    },
    {
      "cell_type": "markdown",
      "source": [
        "# 3.) Clean your data for a decision tree"
      ],
      "metadata": {
        "id": "qK5NjPrJxeJJ"
      }
    },
    {
      "cell_type": "code",
      "source": [
        "X = pd.get_dummies(df_select, \"class_of_admission\",\"application_type\")\n",
        "y = df[\"case_status\"]"
      ],
      "metadata": {
        "id": "HkpA0-SKxge9"
      },
      "execution_count": 17,
      "outputs": []
    },
    {
      "cell_type": "code",
      "source": [],
      "metadata": {
        "colab": {
          "base_uri": "https://localhost:8080/",
          "height": 0
        },
        "id": "Px2VWcFS1cwL",
        "outputId": "bab72ba5-7ee6-43f8-ceca-d9d3f5c5cd09"
      },
      "execution_count": 15,
      "outputs": [
        {
          "output_type": "execute_result",
          "data": {
            "text/plain": [
              "0         Certified\n",
              "1            Denied\n",
              "2         Certified\n",
              "3         Certified\n",
              "4         Certified\n",
              "            ...    \n",
              "374357    Withdrawn\n",
              "374358    Withdrawn\n",
              "374359    Withdrawn\n",
              "374360    Withdrawn\n",
              "374361    Withdrawn\n",
              "Name: case_status, Length: 374362, dtype: object"
            ]
          },
          "metadata": {},
          "execution_count": 15
        }
      ]
    },
    {
      "cell_type": "markdown",
      "source": [
        "# 4.) Fit and plot a decision tree of depth X"
      ],
      "metadata": {
        "id": "vqLwR0kA1tT9"
      }
    },
    {
      "cell_type": "code",
      "source": [
        "from sklearn import tree"
      ],
      "metadata": {
        "id": "sbM9DZd_1gBh"
      },
      "execution_count": 18,
      "outputs": []
    },
    {
      "cell_type": "code",
      "source": [
        "clf = tree.DecisionTreeClassifier(max_depth = 3)\n",
        "clf.fit(X,y)"
      ],
      "metadata": {
        "colab": {
          "base_uri": "https://localhost:8080/",
          "height": 0
        },
        "id": "k2pggokz10IF",
        "outputId": "156ee51a-e0bb-4869-ab10-286dc9a9637c"
      },
      "execution_count": 19,
      "outputs": [
        {
          "output_type": "execute_result",
          "data": {
            "text/plain": [
              "DecisionTreeClassifier(max_depth=3)"
            ]
          },
          "metadata": {},
          "execution_count": 19
        }
      ]
    },
    {
      "cell_type": "code",
      "source": [
        "plt.figure(figsize = (20,8))\n",
        "tree.plot_tree(clf,feature_names = X.columns )"
      ],
      "metadata": {
        "colab": {
          "base_uri": "https://localhost:8080/",
          "height": 587
        },
        "id": "pakyRkbu12GI",
        "outputId": "61a27c6d-9621-48ac-eece-18350e70434b"
      },
      "execution_count": 24,
      "outputs": [
        {
          "output_type": "execute_result",
          "data": {
            "text/plain": [
              "[Text(0.6666666666666666, 0.875, 'class_of_admissionapplication_typeCertified <= 0.5\\ngini = 0.599\\nsamples = 374362\\nvalue = [181933, 148586, 25649, 18194]'),\n",
              " Text(0.5, 0.625, 'class_of_admissionapplication_typeCertified-Expired <= 0.5\\ngini = 0.377\\nsamples = 192429\\nvalue = [0, 148586, 25649, 18194]'),\n",
              " Text(0.3333333333333333, 0.375, 'class_of_admissionapplication_typeWithdrawn <= 0.5\\ngini = 0.486\\nsamples = 43843\\nvalue = [0, 0, 25649, 18194]'),\n",
              " Text(0.16666666666666666, 0.125, 'gini = 0.0\\nsamples = 25649\\nvalue = [0, 0, 25649, 0]'),\n",
              " Text(0.5, 0.125, 'gini = 0.0\\nsamples = 18194\\nvalue = [0, 0, 0, 18194]'),\n",
              " Text(0.6666666666666666, 0.375, 'gini = 0.0\\nsamples = 148586\\nvalue = [0, 148586, 0, 0]'),\n",
              " Text(0.8333333333333334, 0.625, 'gini = 0.0\\nsamples = 181933\\nvalue = [181933, 0, 0, 0]')]"
            ]
          },
          "metadata": {},
          "execution_count": 24
        },
        {
          "output_type": "display_data",
          "data": {
            "text/plain": [
              "<Figure size 1440x576 with 1 Axes>"
            ],
            "image/png": "[encoded data removed]"
          },
          "metadata": {
            "needs_background": "light"
          }
        }
      ]
    },
    {
      "cell_type": "code",
      "source": [],
      "metadata": {
        "id": "2dGOVuEw15GK"
      },
      "execution_count": null,
      "outputs": []
    },
    {
      "cell_type": "markdown",
      "source": [
        "# 5.) Write your interpretation of the largest (by sample size) leaf node\n"
      ],
      "metadata": {
        "id": "AJOZ_O7-2CYX"
      }
    },
    {
      "cell_type": "code",
      "source": [
        "# the largest sample size node is when application type certified then it is true "
      ],
      "metadata": {
        "id": "OGCd2kQM2CtN"
      },
      "execution_count": 25,
      "outputs": []
    },
    {
      "cell_type": "code",
      "source": [
        "\n"
      ],
      "metadata": {
        "id": "o-SLS-OU2E2e"
      },
      "execution_count": 22,
      "outputs": []
    },
    {
      "cell_type": "code",
      "source": [],
      "metadata": {
        "id": "2_mOEkSS2HPT"
      },
      "execution_count": null,
      "outputs": []
    },
    {
      "cell_type": "markdown",
      "source": [
        "#6.) Using a for loop, make your own train-test split and determine the best max_depth for out-of sample accuracy¶\n",
        "max_depths = [1,2,3]\n"
      ],
      "metadata": {
        "id": "lcNqih8m2JKe"
      }
    },
    {
      "cell_type": "code",
      "source": [
        "from sklearn.model_selection import train_test_split\n",
        "max_depths = [1,2,3]\n",
        "outputs = []\n",
        "X_train, x_test, y_train, y_test = train_test_split(X, y, test_size =0.3)\n",
        "for md in max_depths:\n",
        "  clf = tree.DecisionTreeClassifier(max_depth = md)\n",
        "  clf.fit(X_train,y_train)\n",
        "  outputs.append(clf.score(x_test,y_test))"
      ],
      "metadata": {
        "id": "trNZ_yWY2Je5"
      },
      "execution_count": 30,
      "outputs": []
    },
    {
      "cell_type": "code",
      "source": [
        "outputs"
      ],
      "metadata": {
        "colab": {
          "base_uri": "https://localhost:8080/",
          "height": 0
        },
        "id": "vev8iagg7aCn",
        "outputId": "0c147365-e4d8-4a05-fd1e-35ae13998dc8"
      },
      "execution_count": 31,
      "outputs": [
        {
          "output_type": "execute_result",
          "data": {
            "text/plain": [
              "[0.8830013623129046, 0.9514731677781834, 1.0]"
            ]
          },
          "metadata": {},
          "execution_count": 31
        }
      ]
    },
    {
      "cell_type": "code",
      "source": [
        "#The best one is the one that have 3 depths"
      ],
      "metadata": {
        "id": "LVnSorhHF4YM"
      },
      "execution_count": null,
      "outputs": []
    }
  ]
}